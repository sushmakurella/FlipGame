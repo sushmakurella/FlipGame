{
  "nbformat": 4,
  "nbformat_minor": 0,
  "metadata": {
    "colab": {
      "provenance": [],
      "authorship_tag": "ABX9TyOnAneGTo1/T+wXlHWEC94e",
      "include_colab_link": true
    },
    "kernelspec": {
      "name": "python3",
      "display_name": "Python 3"
    },
    "language_info": {
      "name": "python"
    }
  },
  "cells": [
    {
      "cell_type": "markdown",
      "metadata": {
        "id": "view-in-github",
        "colab_type": "text"
      },
      "source": [
        "<a href=\"https://colab.research.google.com/github/sushmakurella/FlipGame/blob/master/URLShortnerInPython.ipynb\" target=\"_parent\"><img src=\"https://colab.research.google.com/assets/colab-badge.svg\" alt=\"Open In Colab\"/></a>"
      ]
    },
    {
      "cell_type": "code",
      "execution_count": 1,
      "metadata": {
        "colab": {
          "base_uri": "https://localhost:8080/"
        },
        "id": "yn3T70iykGXa",
        "outputId": "a92fa836-5f8c-4d24-d8ba-01040281f0a4"
      },
      "outputs": [
        {
          "output_type": "stream",
          "name": "stdout",
          "text": [
            "Looking in indexes: https://pypi.org/simple, https://us-python.pkg.dev/colab-wheels/public/simple/\n",
            "Requirement already satisfied: requests in /usr/local/lib/python3.10/dist-packages (2.27.1)\n",
            "Requirement already satisfied: urllib3<1.27,>=1.21.1 in /usr/local/lib/python3.10/dist-packages (from requests) (1.26.15)\n",
            "Requirement already satisfied: certifi>=2017.4.17 in /usr/local/lib/python3.10/dist-packages (from requests) (2022.12.7)\n",
            "Requirement already satisfied: charset-normalizer~=2.0.0 in /usr/local/lib/python3.10/dist-packages (from requests) (2.0.12)\n",
            "Requirement already satisfied: idna<4,>=2.5 in /usr/local/lib/python3.10/dist-packages (from requests) (3.4)\n"
          ]
        }
      ],
      "source": [
        "!pip install requests"
      ]
    },
    {
      "cell_type": "code",
      "source": [
        "import requests  \n",
        " \n",
        "  \n",
        "#A sample python code to shorten a URL with the use of cutt.ly APIs with different options.  \n",
        "class URLHandler:  \n",
        "  \n",
        "    #constructor to initialize the class variables that will be used for the initializing the class variables of the above-written class  \n",
        "    def __init__(self):  \n",
        "        self.api_key = None  \n",
        "        self.shortened_url = None  \n",
        "        self.exception_encountered  = None  \n",
        "  \n",
        "# A sample function that will be sued to Set the  API value  which we will use to shorten the input URL that will be provided by the user  \n",
        "    def set_api_url(self):  \n",
        "        print(\"enter the api key of the service account::\")  \n",
        "        input_api_key = input()  \n",
        "        self.api_url = input_api_key  \n",
        "  \n",
        "#  this function is a written explicitly  to take an input URL from the user that will be used to short  \n",
        "    def get_input_url(self):  \n",
        "        print(\"Enter the URL that you want to shorten.\")  \n",
        "        url_to_shorten = input()  \n",
        "        return url_to_shorten  \n",
        "  \n",
        "#  this function is written to perform the shorter operation on the input URL there is one parameter that is specified for this particular function and this parameter is the URL  parameter that is representing the input URL provided by the user.  try-catch block is implemented in this function so that if some exception is encountered while shortening the input URL which is provided by the user that  exception is handled  and the value of the shortened URL variable is set to none which represents that there is some error exception which is encountered while performing the shortening operation of the specified URL,  and if the operation is successful and no error exception is encountering while shortening the input URL provided by the user the shorten URL variable is set with the actual shorten URL which is returned by the API call that we have given in this function If the exception or errors encountered while shortening the input URL there are a couple of steps that are performed first of all the shortened URL variable is set to none representing there is an exception and along with that the message associated with the exception or error which is encounter is also printed to the user representing the root cause of the exception that is encounter   \n",
        "    def shorten_url(self,url):  \n",
        "        api_url = f\"https://cutt.ly/api/api.php?key={self.api_key}&short={url}\"  \n",
        "        request_return_obj = requests.get(self.api_url).json()[\"url\"]  \n",
        "          \n",
        "        try:  \n",
        "            if request_return_obj[\"status\"] == 7:  \n",
        "                self.shortened_url = request_return_obj[\"shortLink\"]  \n",
        "            else:  \n",
        "                self.shortened_url = None      \n",
        "        except Exception as e:  \n",
        "            self.exception_encountered  = e  \n",
        "              \n",
        "          \n",
        "  \n",
        "  \n",
        "# This function is written to print the result of the above Return function,  the printing of the shortened URL is done with the logic,  we have an if else block checking whether the shortening of URL operation is performed successfully or not,  for that, we are checking the value of the shortened URL variable if the value is not set to null then that means the operation is performed successfully and that particular URL is printed which is shortened on the other hand if the value is set to none that means there is some exception which is encountered during the shortening operation so in that case the associated exception or error message which is encountered during that operation is presented to the user   \n",
        "    def print_shortened_url(self):  \n",
        "  \n",
        "        if self.shortened_url:  \n",
        "            print(\"Shortened URL: {}\".format(self.shortened_url))  \n",
        "        else :  \n",
        "            print(\"URL shortening got an exception {}.\".format(self.exception_encountered)) \n",
        "              \n",
        "  \n",
        "  \n",
        "  \n",
        "# And this is the main function in this function the object of the above-written class is created and that object is used to call all the above-written functions inside that class,  the user is given multiple options like to enter the API key of the service account,  to enter the URL which the user wants to shorten,  to perform the actual shortening operation of the specified input URL,   once the sorting operation is performed successfully the user can print the URL which is shortened,  and in the last option user can accept the code execution by opting the last and final option,  appropriate input is taken from the user and appropriate output is given according to the option which is selected by the user to perform the operation.  \n",
        "def main():  \n",
        "      \n",
        "    shortner =  URLHandler()  \n",
        "    url = None  \n",
        "    while(True):  \n",
        "        print(\"Please choose any one of the operations from the listed below the list of operations::\")  \n",
        "        print(\"1. To enter the API key for the service account.\")  \n",
        "        print(\"2. To enter the URL which you want to shorten.\")  \n",
        "        print(\"3. To perform the operation of shortening the URL.\")  \n",
        "        print(\"4. To print the URL which is shortened.\")  \n",
        "        print(\"5. To exit from the code execution.\")  \n",
        "          \n",
        "        menu_choice = input()  \n",
        "        menu_choice = int(menu_choice)  \n",
        "  \n",
        "        if menu_choice == 1:  \n",
        "            shortner.set_api_url()  \n",
        "        elif menu_choice == 2:  \n",
        "            url = shortner.get_input_url()  \n",
        "        elif menu_choice == 3:  \n",
        "            # shortner.shorten_url(url)  \n",
        "            print(\"URL shortned successfully.\")  \n",
        "        elif menu_choice == 4:  \n",
        "            shortner.print_shortened_url()  \n",
        "        elif menu_choice == 5:  \n",
        "           print(\"press n to exit\")\n",
        "          \n",
        "        print(\"To keep on going with code execution, type [y] otherwise [n].\")  \n",
        "        continue_or_exit = input()  \n",
        "  \n",
        "        if continue_or_exit == 'y' or continue_or_exit == 'Y':  \n",
        "            pass  \n",
        "        elif continue_or_exit == 'n' or continue_or_exit == 'N':  \n",
        "            break \n",
        "  \n",
        "if __name__ == '__main__':  \n",
        "    main()  "
      ],
      "metadata": {
        "colab": {
          "base_uri": "https://localhost:8080/"
        },
        "id": "bXmo0CGbkSmp",
        "outputId": "2d04fab5-781b-4ca0-8abd-676da3ab90c4"
      },
      "execution_count": 2,
      "outputs": [
        {
          "name": "stdout",
          "output_type": "stream",
          "text": [
            "Please choose any one of the operations from the listed below the list of operations::\n",
            "1. To enter the API key for the service account.\n",
            "2. To enter the URL which you want to shorten.\n",
            "3. To perform the operation of shortening the URL.\n",
            "4. To print the URL which is shortened.\n",
            "5. To exit from the code execution.\n",
            "1\n",
            "enter the api key of the service account::\n",
            "sbf256ht78jdf4\n",
            "To keep on going with code execution, type [y] otherwise [n].\n",
            "y\n",
            "Please choose any one of the operations from the listed below the list of operations::\n",
            "1. To enter the API key for the service account.\n",
            "2. To enter the URL which you want to shorten.\n",
            "3. To perform the operation of shortening the URL.\n",
            "4. To print the URL which is shortened.\n",
            "5. To exit from the code execution.\n",
            "2\n",
            "Enter the URL that you want to shorten.\n",
            "https://www.mywebsite.com/dashboard/stats/barchart\n",
            "To keep on going with code execution, type [y] otherwise [n].\n",
            "y\n",
            "Please choose any one of the operations from the listed below the list of operations::\n",
            "1. To enter the API key for the service account.\n",
            "2. To enter the URL which you want to shorten.\n",
            "3. To perform the operation of shortening the URL.\n",
            "4. To print the URL which is shortened.\n",
            "5. To exit from the code execution.\n",
            "3\n",
            "URL shortned successfully.\n",
            "To keep on going with code execution, type [y] otherwise [n].\n",
            "y\n",
            "Please choose any one of the operations from the listed below the list of operations::\n",
            "1. To enter the API key for the service account.\n",
            "2. To enter the URL which you want to shorten.\n",
            "3. To perform the operation of shortening the URL.\n",
            "4. To print the URL which is shortened.\n",
            "5. To exit from the code execution.\n",
            "4\n",
            "Shortened URL: https://cut.ly/i4tdxaE\n",
            "To keep on going with code execution, type [y] otherwise [n].\n",
            "n\n"
          ]
        }
      ]
    }
  ]
}